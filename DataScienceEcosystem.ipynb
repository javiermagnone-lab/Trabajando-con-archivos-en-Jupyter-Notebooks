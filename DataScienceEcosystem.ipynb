{
  "metadata": {
    "kernelspec": {
      "name": "python",
      "display_name": "Python (Pyodide)",
      "language": "python"
    },
    "language_info": {
      "codemirror_mode": {
        "name": "python",
        "version": 3
      },
      "file_extension": ".py",
      "mimetype": "text/x-python",
      "name": "python",
      "nbconvert_exporter": "python",
      "pygments_lexer": "ipython3",
      "version": "3.8"
    }
  },
  "nbformat_minor": 5,
  "nbformat": 4,
  "cells": [
    {
      "id": "7fbdfd33-8f29-4c88-be90-cb12d8d03e05",
      "cell_type": "markdown",
      "source": "# Data Science Tools and Ecosystem\n\nEn este cuaderno, se resumen las herramientas y ecosistemas de ciencia de datos.",
      "metadata": {}
    },
    {
      "id": "9990e5f4-616c-4301-a718-75aeda3bcfc2",
      "cell_type": "markdown",
      "source": "**Objetivos:**\n- Listar lenguajes populares para Ciencia de Datos\n- Listar bibliotecas comúnmente usadas en Ciencia de Datos\n- Realizar operaciones aritmeticas\n",
      "metadata": {}
    },
    {
      "id": "0d97d655-975a-4790-910c-74b39a260922",
      "cell_type": "markdown",
      "source": "## Autor\nJavier Magnone",
      "metadata": {}
    },
    {
      "id": "535dbb1c-5396-4311-b2f1-50be157a15e0",
      "cell_type": "markdown",
      "source": "Algunos de los lenguajes populares que utilizan los científicos de datos son:\n1. phynton\n2. R\n3. C++",
      "metadata": {}
    },
    {
      "id": "8165c781-b03d-473c-b593-7570b859cd49",
      "cell_type": "markdown",
      "source": "Algunas de las bibliotecas comúnmente utilizadas por los científicos de datos incluyen:\n1. Numpy\n2. Pandas\n3. Matplotlib\n4. TensorFlow",
      "metadata": {}
    },
    {
      "id": "82a17ef9-d6c2-4e07-8bc2-4553cfca6e0e",
      "cell_type": "markdown",
      "source": "|Herramienta de ciencia de datos |\n|--------------------------------|\n| Python                         |\n| Julia                          |\n| R                              |\n    \n    \n",
      "metadata": {}
    },
    {
      "id": "bbf91060-9797-408c-a255-541552bbeacf",
      "cell_type": "markdown",
      "source": "### A continuación, se presentan algunos ejemplos de evaluación de expresiones aritméticas en Python:\n\nSuma = (2+3) \nprint (suma)\n\nresta = (2-3) \nprint (resta)\n\n\n",
      "metadata": {}
    },
    {
      "id": "1ff1d245-0297-416f-b67e-7cd18c19f529",
      "cell_type": "code",
      "source": "# Esta es una expresión aritmética simple para multiplicar y luego sumar enteros.\nexpresion = (3*4)+5 \nprint (expresion)\n",
      "metadata": {
        "trusted": true
      },
      "outputs": [
        {
          "name": "stdout",
          "output_type": "stream",
          "text": "17\n"
        }
      ],
      "execution_count": 17
    },
    {
      "id": "7ca90e0c-7e41-42cc-810a-c0859e4b1267",
      "cell_type": "code",
      "source": "# Esto convertirá 200 minutos a horas dividiendo por 60\nconversion = 200/60\nprint(conversion)",
      "metadata": {
        "trusted": true
      },
      "outputs": [
        {
          "name": "stdout",
          "output_type": "stream",
          "text": "3.3333333333333335\n"
        }
      ],
      "execution_count": 18
    },
    {
      "id": "ae30d48e-6212-440c-80ed-76042edcb2d8",
      "cell_type": "code",
      "source": "",
      "metadata": {
        "trusted": true
      },
      "outputs": [],
      "execution_count": null
    },
    {
      "id": "e0ffd1f6-73e4-4a80-b23a-edc506d2594f",
      "cell_type": "code",
      "source": "",
      "metadata": {
        "trusted": true
      },
      "outputs": [],
      "execution_count": null
    },
    {
      "id": "dd67f62d-e3aa-4890-9262-bfd4141fe7c3",
      "cell_type": "code",
      "source": "",
      "metadata": {
        "trusted": true
      },
      "outputs": [],
      "execution_count": null
    },
    {
      "id": "9874999a-8aa3-4ab1-b785-5f31e5295ae7",
      "cell_type": "code",
      "source": "",
      "metadata": {
        "trusted": true
      },
      "outputs": [],
      "execution_count": null
    }
  ]
}